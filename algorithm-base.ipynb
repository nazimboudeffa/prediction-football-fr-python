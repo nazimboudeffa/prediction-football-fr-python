{
 "cells": [
  {
   "cell_type": "code",
   "execution_count": 11,
   "id": "244463d0-e211-46b2-a421-bc3dceaf2344",
   "metadata": {},
   "outputs": [],
   "source": [
    "import requests\n",
    "import pandas as pd"
   ]
  },
  {
   "cell_type": "code",
   "execution_count": 19,
   "id": "820ef301-3f11-49e1-b59a-14ec8c101031",
   "metadata": {},
   "outputs": [
    {
     "name": "stdout",
     "output_type": "stream",
     "text": [
      "🔍 Requête vers : https://www.thesportsdb.com/api/v1/json/3/lookuptable.php?l=4334&s=2025-2026\n",
      "✅ Données récupérées avec succès :\n",
      "\n",
      "1. Paris SG - 20 pts\n",
      "2. Marseille - 18 pts\n",
      "3. Monaco - 17 pts\n",
      "4. Strasbourg - 16 pts\n",
      "5. Lens - 16 pts\n"
     ]
    }
   ],
   "source": [
    "API_KEY = \"3\"  # Clé publique par défaut\n",
    "LEAGUE_ID = \"4334\"\n",
    "SEASON = \"2025-2026\"\n",
    "\n",
    "url = f\"https://www.thesportsdb.com/api/v1/json/{API_KEY}/lookuptable.php?l={LEAGUE_ID}&s={SEASON}\"\n",
    "\n",
    "print(f\"🔍 Requête vers : {url}\")\n",
    "\n",
    "try:\n",
    "    response = requests.get(url)\n",
    "    response.raise_for_status()  # Lève une exception si erreur HTTP\n",
    "\n",
    "    # Vérifie si le contenu est vide\n",
    "    if not response.text.strip():\n",
    "        print(\"⚠️ Réponse vide de l'API.\")\n",
    "    else:\n",
    "        try:\n",
    "            data = response.json()\n",
    "            if \"table\" in data and data[\"table\"]:\n",
    "                print(\"✅ Données récupérées avec succès :\\n\")\n",
    "                for team in data[\"table\"]:\n",
    "                    print(f\"{team['intRank']}. {team['strTeam']} - {team['intPoints']} pts\")\n",
    "            else:\n",
    "                print(\"⚠️ Pas de données de classement trouvées pour cette saison.\")\n",
    "        except ValueError:\n",
    "            print(\"⚠️ Réponse non JSON. Voici le contenu brut :\")\n",
    "            print(response.text[:500])  # affiche les 500 premiers caractères\n",
    "except requests.RequestException as e:\n",
    "    print(f\"🚨 Erreur de requête : {e}\")"
   ]
  },
  {
   "cell_type": "code",
   "execution_count": 21,
   "id": "36079e32-ed17-43e2-b66e-7a1f984198d8",
   "metadata": {},
   "outputs": [
    {
     "name": "stdout",
     "output_type": "stream",
     "text": [
      "Match : Paris SG (#1) vs Marseille (#2)\n",
      "Probabilité Paris SG : 67.0% | Marseille : 33.0%\n",
      "➡️ Pronostic : victoire de Paris SG\n"
     ]
    }
   ],
   "source": [
    "def get_team_rank(team_name):\n",
    "    \"\"\"Récupère le rang d'une équipe dans le classement de TheSportsDB.\"\"\"\n",
    "    url = f\"https://www.thesportsdb.com/api/v1/json/{API_KEY}/lookuptable.php?l={LEAGUE_ID}&s={SEASON}\"\n",
    "    r = requests.get(url)\n",
    "    r.raise_for_status()\n",
    "    data = r.json()\n",
    "\n",
    "    if \"table\" not in data or not data[\"table\"]:\n",
    "        raise ValueError(\"Aucune donnée de classement trouvée.\")\n",
    "\n",
    "    for team in data[\"table\"]:\n",
    "        if team_name.lower() in team[\"strTeam\"].lower():\n",
    "            return int(team[\"intRank\"])\n",
    "    raise ValueError(f\"Équipe '{team_name}' non trouvée dans la ligue.\")\n",
    "\n",
    "def proba_victoire(rang_A, rang_B):\n",
    "    \"\"\"Calcule les probabilités de victoire basées sur le classement.\"\"\"\n",
    "    pA = rang_B / (rang_A + rang_B)\n",
    "    pB = rang_A / (rang_A + rang_B)\n",
    "    return round(pA, 2), round(pB, 2)\n",
    "\n",
    "def predire_match(equipe_A, equipe_B):\n",
    "    \"\"\"Prédit le vainqueur d’un match selon les rangs du classement.\"\"\"\n",
    "    rang_A = get_team_rank(equipe_A)\n",
    "    rang_B = get_team_rank(equipe_B)\n",
    "\n",
    "    pA, pB = proba_victoire(rang_A, rang_B)\n",
    "    prediction = equipe_A if pA > pB else equipe_B\n",
    "\n",
    "    print(f\"Match : {equipe_A} (#{rang_A}) vs {equipe_B} (#{rang_B})\")\n",
    "    print(f\"Probabilité {equipe_A} : {pA*100}% | {equipe_B} : {pB*100}%\")\n",
    "    print(f\"➡️ Pronostic : victoire de {prediction}\")\n",
    "\n",
    "# Exemple d'utilisation :\n",
    "predire_match(\"Paris SG\", \"Marseille\")"
   ]
  },
  {
   "cell_type": "code",
   "execution_count": null,
   "id": "c4c42b04-781a-4ee3-9bae-c7938e0e6c51",
   "metadata": {},
   "outputs": [],
   "source": []
  }
 ],
 "metadata": {
  "kernelspec": {
   "display_name": "Python 3 (ipykernel)",
   "language": "python",
   "name": "python3"
  },
  "language_info": {
   "codemirror_mode": {
    "name": "ipython",
    "version": 3
   },
   "file_extension": ".py",
   "mimetype": "text/x-python",
   "name": "python",
   "nbconvert_exporter": "python",
   "pygments_lexer": "ipython3",
   "version": "3.13.2"
  }
 },
 "nbformat": 4,
 "nbformat_minor": 5
}
