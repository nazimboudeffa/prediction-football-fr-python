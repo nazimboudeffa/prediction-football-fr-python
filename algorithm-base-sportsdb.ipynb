{
 "cells": [
  {
   "cell_type": "markdown",
   "id": "8d41b891-13b2-4856-8779-ad717a88432f",
   "metadata": {},
   "source": [
    "https://www.thesportsdb.com/table.php?l=4334&s=2025-2026"
   ]
  },
  {
   "cell_type": "code",
   "execution_count": 6,
   "id": "244463d0-e211-46b2-a421-bc3dceaf2344",
   "metadata": {},
   "outputs": [],
   "source": [
    "import requests\n",
    "import json\n",
    "import os\n",
    "from dotenv import load_dotenv\n",
    "import pandas as pd"
   ]
  },
  {
   "cell_type": "code",
   "execution_count": 8,
   "id": "0f5ecf87-0dec-4080-bb19-ed01f8d2ad35",
   "metadata": {},
   "outputs": [
    {
     "name": "stderr",
     "output_type": "stream",
     "text": [
      "IOPub data rate exceeded.\n",
      "The Jupyter server will temporarily stop sending output\n",
      "to the client in order to avoid crashing it.\n",
      "To change this limit, set the config variable\n",
      "`--ServerApp.iopub_data_rate_limit`.\n",
      "\n",
      "Current values:\n",
      "ServerApp.iopub_data_rate_limit=1000000.0 (bytes/sec)\n",
      "ServerApp.rate_limit_window=3.0 (secs)\n",
      "\n"
     ]
    }
   ],
   "source": [
    "url = \"https://v3.football.api-sports.io/standings\"\n",
    "params = {\n",
    "    \"league\": 61,  # Ligue 1\n",
    "    \"season\": 2024\n",
    "}\n",
    "\n",
    "headers = {\n",
    "    \"x-rapidapi-key\": API_KEY,\n",
    "    \"x-rapidapi-host\": API_HOST\n",
    "}\n",
    "\n",
    "response = requests.get(url, headers=headers, params=params)\n",
    "\n",
    "if response.status_code == 200:\n",
    "    data = response.json()\n",
    "    standings = data['response'][0]['league']['standings'][0]\n",
    "\n",
    "    # Transformer en DataFrame pour lecture facile\n",
    "    df = pd.DataFrame([\n",
    "        {\n",
    "            \"Position\": team['rank'],\n",
    "            \"Équipe\": team['team']['name'],\n",
    "            \"Points\": team['points'],\n",
    "            \"Joués\": team['all']['played'],\n",
    "            \"Gagnés\": team['all']['win'],\n",
    "            \"Nuls\": team['all']['draw'],\n",
    "            \"Perdus\": team['all']['lose'],\n",
    "            \"Diff. Buts\": team['goalsDiff']\n",
    "        }\n",
    "        for team in standings\n",
    "    ])\n",
    "\n",
    "    print(df)\n",
    "else:\n",
    "    print(f\"Erreur {response.status_code}: {response.text}\")"
   ]
  },
  {
   "cell_type": "code",
   "execution_count": 4,
   "id": "820ef301-3f11-49e1-b59a-14ec8c101031",
   "metadata": {},
   "outputs": [
    {
     "name": "stdout",
     "output_type": "stream",
     "text": [
      "🔍 Requête vers : https://www.thesportsdb.com/api/v1/json/123/lookuptable.php?l=4334&s=2025-2026\n",
      "✅ Données récupérées avec succès :\n",
      "\n",
      "1. Paris SG - 21 pts\n",
      "2. Lens - 20 pts\n",
      "3. Marseille - 18 pts\n",
      "4. Lyon - 18 pts\n",
      "5. Lille - 17 pts\n"
     ]
    }
   ],
   "source": [
    "API_KEY = \"123\"  # Clé publique par défaut\n",
    "LEAGUE_ID = \"4334\"\n",
    "SEASON = \"2025-2026\"\n",
    "\n",
    "url = f\"https://www.thesportsdb.com/api/v1/json/{API_KEY}/lookuptable.php?l={LEAGUE_ID}&s={SEASON}\"\n",
    "\n",
    "print(f\"🔍 Requête vers : {url}\")\n",
    "\n",
    "try:\n",
    "    response = requests.get(url)\n",
    "    response.raise_for_status()  # Lève une exception si erreur HTTP\n",
    "\n",
    "    # Vérifie si le contenu est vide\n",
    "    if not response.text.strip():\n",
    "        print(\"⚠️ Réponse vide de l'API.\")\n",
    "    else:\n",
    "        try:\n",
    "            data = response.json()\n",
    "            if \"table\" in data and data[\"table\"]:\n",
    "                print(\"✅ Données récupérées avec succès :\\n\")\n",
    "                for team in data[\"table\"]:\n",
    "                    print(f\"{team['intRank']}. {team['strTeam']} - {team['intPoints']} pts\")\n",
    "            else:\n",
    "                print(\"⚠️ Pas de données de classement trouvées pour cette saison.\")\n",
    "        except ValueError:\n",
    "            print(\"⚠️ Réponse non JSON. Voici le contenu brut :\")\n",
    "            print(response.text[:500])  # affiche les 500 premiers caractères\n",
    "except requests.RequestException as e:\n",
    "    print(f\"🚨 Erreur de requête : {e}\")"
   ]
  },
  {
   "cell_type": "code",
   "execution_count": 5,
   "id": "36079e32-ed17-43e2-b66e-7a1f984198d8",
   "metadata": {},
   "outputs": [
    {
     "ename": "ValueError",
     "evalue": "Équipe 'Auxerre' non trouvée dans la ligue.",
     "output_type": "error",
     "traceback": [
      "\u001b[31m---------------------------------------------------------------------------\u001b[39m",
      "\u001b[31mValueError\u001b[39m                                Traceback (most recent call last)",
      "\u001b[36mCell\u001b[39m\u001b[36m \u001b[39m\u001b[32mIn[5]\u001b[39m\u001b[32m, line 36\u001b[39m\n\u001b[32m     33\u001b[39m     \u001b[38;5;28mprint\u001b[39m(\u001b[33mf\u001b[39m\u001b[33m\"\u001b[39m\u001b[33m➡️ Pronostic : victoire de \u001b[39m\u001b[38;5;132;01m{\u001b[39;00mprediction\u001b[38;5;132;01m}\u001b[39;00m\u001b[33m\"\u001b[39m)\n\u001b[32m     35\u001b[39m \u001b[38;5;66;03m# Exemple d'utilisation :\u001b[39;00m\n\u001b[32m---> \u001b[39m\u001b[32m36\u001b[39m \u001b[43mpredire_match\u001b[49m\u001b[43m(\u001b[49m\u001b[33;43m\"\u001b[39;49m\u001b[33;43mAuxerre\u001b[39;49m\u001b[33;43m\"\u001b[39;49m\u001b[43m,\u001b[49m\u001b[43m \u001b[49m\u001b[33;43m\"\u001b[39;49m\u001b[33;43mMarseille\u001b[39;49m\u001b[33;43m\"\u001b[39;49m\u001b[43m)\u001b[49m\n",
      "\u001b[36mCell\u001b[39m\u001b[36m \u001b[39m\u001b[32mIn[5]\u001b[39m\u001b[32m, line 24\u001b[39m, in \u001b[36mpredire_match\u001b[39m\u001b[34m(equipe_A, equipe_B)\u001b[39m\n\u001b[32m     22\u001b[39m \u001b[38;5;28;01mdef\u001b[39;00m\u001b[38;5;250m \u001b[39m\u001b[34mpredire_match\u001b[39m(equipe_A, equipe_B):\n\u001b[32m     23\u001b[39m \u001b[38;5;250m    \u001b[39m\u001b[33;03m\"\"\"Prédit le vainqueur d’un match selon les rangs du classement.\"\"\"\u001b[39;00m\n\u001b[32m---> \u001b[39m\u001b[32m24\u001b[39m     rang_A = \u001b[43mget_team_rank\u001b[49m\u001b[43m(\u001b[49m\u001b[43mequipe_A\u001b[49m\u001b[43m)\u001b[49m\n\u001b[32m     25\u001b[39m     rang_B = get_team_rank(equipe_B)\n\u001b[32m     27\u001b[39m     pA, pB = proba_victoire(rang_A, rang_B)\n",
      "\u001b[36mCell\u001b[39m\u001b[36m \u001b[39m\u001b[32mIn[5]\u001b[39m\u001b[32m, line 14\u001b[39m, in \u001b[36mget_team_rank\u001b[39m\u001b[34m(team_name)\u001b[39m\n\u001b[32m     12\u001b[39m     \u001b[38;5;28;01mif\u001b[39;00m team_name.lower() \u001b[38;5;129;01min\u001b[39;00m team[\u001b[33m\"\u001b[39m\u001b[33mstrTeam\u001b[39m\u001b[33m\"\u001b[39m].lower():\n\u001b[32m     13\u001b[39m         \u001b[38;5;28;01mreturn\u001b[39;00m \u001b[38;5;28mint\u001b[39m(team[\u001b[33m\"\u001b[39m\u001b[33mintRank\u001b[39m\u001b[33m\"\u001b[39m])\n\u001b[32m---> \u001b[39m\u001b[32m14\u001b[39m \u001b[38;5;28;01mraise\u001b[39;00m \u001b[38;5;167;01mValueError\u001b[39;00m(\u001b[33mf\u001b[39m\u001b[33m\"\u001b[39m\u001b[33mÉquipe \u001b[39m\u001b[33m'\u001b[39m\u001b[38;5;132;01m{\u001b[39;00mteam_name\u001b[38;5;132;01m}\u001b[39;00m\u001b[33m'\u001b[39m\u001b[33m non trouvée dans la ligue.\u001b[39m\u001b[33m\"\u001b[39m)\n",
      "\u001b[31mValueError\u001b[39m: Équipe 'Auxerre' non trouvée dans la ligue."
     ]
    }
   ],
   "source": [
    "def get_team_rank(team_name):\n",
    "    \"\"\"Récupère le rang d'une équipe dans le classement de TheSportsDB.\"\"\"\n",
    "    url = f\"https://www.thesportsdb.com/api/v1/json/{API_KEY}/lookuptable.php?l={LEAGUE_ID}&s={SEASON}\"\n",
    "    r = requests.get(url)\n",
    "    r.raise_for_status()\n",
    "    data = r.json()\n",
    "\n",
    "    if \"table\" not in data or not data[\"table\"]:\n",
    "        raise ValueError(\"Aucune donnée de classement trouvée.\")\n",
    "\n",
    "    for team in data[\"table\"]:\n",
    "        if team_name.lower() in team[\"strTeam\"].lower():\n",
    "            return int(team[\"intRank\"])\n",
    "    raise ValueError(f\"Équipe '{team_name}' non trouvée dans la ligue.\")\n",
    "\n",
    "def proba_victoire(rang_A, rang_B):\n",
    "    \"\"\"Calcule les probabilités de victoire basées sur le classement.\"\"\"\n",
    "    pA = rang_B / (rang_A + rang_B)\n",
    "    pB = rang_A / (rang_A + rang_B)\n",
    "    return round(pA, 2), round(pB, 2)\n",
    "\n",
    "def predire_match(equipe_A, equipe_B):\n",
    "    \"\"\"Prédit le vainqueur d’un match selon les rangs du classement.\"\"\"\n",
    "    rang_A = get_team_rank(equipe_A)\n",
    "    rang_B = get_team_rank(equipe_B)\n",
    "\n",
    "    pA, pB = proba_victoire(rang_A, rang_B)\n",
    "    prediction = equipe_A if pA > pB else equipe_B\n",
    "\n",
    "    print(f\"Match : {equipe_A} (#{rang_A}) vs {equipe_B} (#{rang_B})\")\n",
    "    print(f\"Probabilité {equipe_A} : {pA*100}% | {equipe_B} : {pB*100}%\")\n",
    "    print(f\"Cotes {equipe_A} : {round(1/pA, 2)} | {equipe_B} : {round(1/pB, 2)}\")\n",
    "    print(f\"➡️ Pronostic : victoire de {prediction}\")\n",
    "\n",
    "# Exemple d'utilisation :\n",
    "predire_match(\"Auxerre\", \"Marseille\")"
   ]
  },
  {
   "cell_type": "code",
   "execution_count": 7,
   "id": "c4c42b04-781a-4ee3-9bae-c7938e0e6c51",
   "metadata": {},
   "outputs": [
    {
     "name": "stdout",
     "output_type": "stream",
     "text": [
      "⚽ Paris SG (#1) vs Marseille (#2)\n",
      "Probabilités : Paris SG gagne 50.7% | Nul 24.0% | Marseille gagne 25.3%\n",
      "Cotes : Paris SG gagne 1.97 | Nul 4.17 | Marseille gagne 3.95\n",
      "➡️ Pronostic : Victoire de Paris SG\n",
      "\n"
     ]
    }
   ],
   "source": [
    "import requests\n",
    "\n",
    "API_KEY = \"3\"\n",
    "LEAGUE_ID = \"4334\"   # Premier League\n",
    "SEASON = \"2025-2026\"\n",
    "\n",
    "def get_team_rank(team_name):\n",
    "    \"\"\"\n",
    "    Récupère le rang d'une équipe depuis le classement TheSportsDB.\n",
    "    \"\"\"\n",
    "    url = f\"https://www.thesportsdb.com/api/v1/json/{API_KEY}/lookuptable.php?l={LEAGUE_ID}&s={SEASON}\"\n",
    "    r = requests.get(url)\n",
    "    r.raise_for_status()\n",
    "    data = r.json()\n",
    "\n",
    "    if \"table\" not in data or not data[\"table\"]:\n",
    "        raise ValueError(\"Aucune donnée de classement trouvée pour cette saison.\")\n",
    "\n",
    "    for team in data[\"table\"]:\n",
    "        if team_name.lower() in team[\"strTeam\"].lower():\n",
    "            return int(team[\"intRank\"])\n",
    "\n",
    "    raise ValueError(f\"Équipe '{team_name}' non trouvée dans la ligue.\")\n",
    "\n",
    "def proba_victoire_avec_nul(rang_A, rang_B):\n",
    "    \"\"\"\n",
    "    Calcule les probabilités de victoire et de nul basées uniquement sur le classement.\n",
    "    \"\"\"\n",
    "    # Étape 1 : Probabilité brute selon le classement\n",
    "    pA = rang_B / (rang_A + rang_B)\n",
    "    pB = rang_A / (rang_A + rang_B)\n",
    "\n",
    "    # Étape 2 : Probabilité du nul (plus les équipes sont proches, plus le nul est probable)\n",
    "    diff = abs(rang_A - rang_B)\n",
    "    pN = 0.25 - (diff / 100)  # base 25%, diminue si gros écart\n",
    "    pN = max(0.05, min(pN, 0.30))  # bornes : 5% à 30%\n",
    "\n",
    "    # Étape 3 : Normalisation pour que la somme fasse 1\n",
    "    total = pA + pB\n",
    "    pA = pA / total * (1 - pN)\n",
    "    pB = pB / total * (1 - pN)\n",
    "\n",
    "    return round(pA, 3), round(pN, 3), round(pB, 3)\n",
    "\n",
    "def pronostic(equipe_A, equipe_B):\n",
    "    \"\"\"\n",
    "    Calcule les probabilités et fait un pronostic entre deux équipes\n",
    "    en fonction de leur classement réel TheSportsDB.\n",
    "    \"\"\"\n",
    "    rang_A = get_team_rank(equipe_A)\n",
    "    rang_B = get_team_rank(equipe_B)\n",
    "    pA, pN, pB = proba_victoire_avec_nul(rang_A, rang_B)\n",
    "\n",
    "    print(f\"⚽ {equipe_A} (#{rang_A}) vs {equipe_B} (#{rang_B})\")\n",
    "    print(f\"Probabilités : {equipe_A} gagne {pA*100:.1f}% | Nul {pN*100:.1f}% | {equipe_B} gagne {pB*100:.1f}%\")\n",
    "    print(f\"Cotes : {equipe_A} gagne {1/pA:.2f} | Nul {1/pN:.2f} | {equipe_B} gagne {1/pB:.2f}\")\n",
    "\n",
    "    # Choix du pronostic\n",
    "    if max(pA, pN, pB) == pA:\n",
    "        prono = f\"Victoire de {equipe_A}\"\n",
    "    elif max(pA, pN, pB) == pB:\n",
    "        prono = f\"Victoire de {equipe_B}\"\n",
    "    else:\n",
    "        prono = \"Match nul\"\n",
    "\n",
    "    print(f\"➡️ Pronostic : {prono}\\n\")\n",
    "\n",
    "# Exemple : PSG vs Marseille\n",
    "pronostic(\"Paris SG\", \"Marseille\")\n"
   ]
  },
  {
   "cell_type": "code",
   "execution_count": null,
   "id": "1d06f899-d2e9-4757-8ba9-99ed28bc6471",
   "metadata": {},
   "outputs": [],
   "source": []
  }
 ],
 "metadata": {
  "kernelspec": {
   "display_name": "Python 3 (ipykernel)",
   "language": "python",
   "name": "python3"
  },
  "language_info": {
   "codemirror_mode": {
    "name": "ipython",
    "version": 3
   },
   "file_extension": ".py",
   "mimetype": "text/x-python",
   "name": "python",
   "nbconvert_exporter": "python",
   "pygments_lexer": "ipython3",
   "version": "3.13.2"
  }
 },
 "nbformat": 4,
 "nbformat_minor": 5
}
